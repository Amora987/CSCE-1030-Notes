{
 "cells": [
  {
   "cell_type": "markdown",
   "id": "afa13ae7-8012-49bf-98ab-71b5f61b5230",
   "metadata": {},
   "source": [
    "### __5.1 Introduction__\n",
    "_A loop can be used to tell a program to execute statements repeatedly_ <br>\n",
    "<br>\n",
    "Suppose you need to display a string a hundred times. It would tedious to have to write it a hundred times."
   ]
  },
  {
   "cell_type": "markdown",
   "id": "61d6daa7-9179-42c0-aefa-a375c6626f06",
   "metadata": {
    "tags": []
   },
   "source": [
    "***\n",
    "### __5.2 The While Loop__\n",
    "_A __while__ loop executes statements repeatedly while the condition is __true__._ <br>\n",
    "<br>\n",
    "The syntax for the __while__ loop is as follows: <br>\n",
    "\n",
    "> __while__ (loop-continuation-condition) { <br>\n",
    "    &emsp; $\\;$ //Loop body <br>\n",
    "    $\\;\\;$ Statement(s); <br>\n",
    "    }\n",
    ">\n",
    "<br>\n",
    "\n",
    "Each loop contains a loop-continuation-condition, a Boolean expression that controls the execution of the body. It is evaluated <br>\n",
    "each time to determine if the loop body is executed. If its evaluation is __true__, the loop body is executed; if its evaluation is <br>\n",
    "__false__ the entire loop terminates and the program control turns to the statement that follows the __while__ loop."
   ]
  },
  {
   "cell_type": "markdown",
   "id": "4f1bd8fd-d94d-4ddb-9066-64a400f26a85",
   "metadata": {
    "tags": []
   },
   "source": [
    "#### Listing 5.1 RepeatAdditionQuiz.java\n",
    "The program will promptthe user to enter an answer for a question on addition of two single digits. Using a loop, you can now rewrite <br>\n",
    "the program to let the user repeatedly enter a new answer until it is correct."
   ]
  },
  {
   "cell_type": "code",
   "execution_count": 1,
   "id": "d3980425-5b34-4651-b90e-883787219dcc",
   "metadata": {},
   "outputs": [],
   "source": [
    "import java.util.Scanner;\n",
    "\n",
    "public class RepeatAdditionQuiz{\n",
    "    public static void main(String[] args){\n",
    "        int number1 = (int)(Math.random() * 10);\n",
    "        int number2 = (int)(Math.random() * 10);\n",
    "\n",
    "        //Create a Scanner\n",
    "        Scanner input = new Scanner(System.in);\n",
    "\n",
    "        //Prompt user to enter an answer\n",
    "        System.out.print(\"What is \" + number1 + \" + \" + number2 + \"? \");\n",
    "        int answer = input.nextInt();\n",
    "\n",
    "        while(answer != number1 + number2) {\n",
    "            System.out.print(\"Sorry wrong answer, try again. What is \" + number1+ \" + \" + number2 + \"? \");\n",
    "            answer = input.nextInt();\n",
    "        }\n",
    "        System.out.print(\"Correct Answer!\");\n",
    "    }\n",
    "}"
   ]
  },
  {
   "cell_type": "markdown",
   "id": "e9d66a52-8700-43f8-811f-f6ef4e671880",
   "metadata": {},
   "source": [
    "#### 5.3 Case Study: Guessing Numbers\n",
    "_This case study generates a random number and lets the user repeatedly guess a number until it is correct_ <br>\n",
    "<br>\n",
    "The problem is to guess what number a computer has in mind. You will write a program that randomly generates an integer between <br>\n",
    "__0__ and __100__, inclusive. The program prompts the user to enter a number continously untily the number matches the randomly <br>\n",
    "generated number. For each user input, the program tells the user whether the input is too low or too high, so the user can make <br>\n",
    "the next guess intelligently."
   ]
  },
  {
   "cell_type": "code",
   "execution_count": null,
   "id": "4358418b-b385-4cc4-8876-768a1b78884f",
   "metadata": {},
   "outputs": [],
   "source": [
    "import java.util.Scanner;\n",
    "\n",
    "public class GuessingNumbers {\n",
    "    public static void main(String[] args){\n",
    "        \n",
    "        // Create Scanner class\n",
    "        Scanner input = new Scanner(System.in);\n",
    "\n",
    "        // Generate a random number between 0 to 100\n",
    "        int number = (int)(Math.random() * 101);\n",
    "        System.out.print(\"Guess a magic number between 0 and 100\");\n",
    "        int guess = -1;\n",
    "\n",
    "        while (guess != number){\n",
    "            System.out.print(\"\\nEnter your guess: \");\n",
    "            guess= input.nextInt();\n",
    "            if (guess == number){\n",
    "                System.out.print(\"Yes the number is \" + number);\n",
    "            }\n",
    "            else if (guess < number){\n",
    "                System.out.print(\"Your guess is too low\");\n",
    "            }\n",
    "            else if (guess > number){\n",
    "                System.out.print(\"Your guess is too high\");\n",
    "            }\n",
    "            \n",
    "        }\n",
    "    }\n",
    "}"
   ]
  },
  {
   "cell_type": "markdown",
   "id": "8339b414-46e4-4961-8794-ec2407be439d",
   "metadata": {},
   "source": [
    "Note that __guess__ is initialized to __-1__. Initializing it to a value between __0__ and __100__ would be wrong, <br>\n",
    "because that could be the number to be guessed."
   ]
  },
  {
   "cell_type": "markdown",
   "id": "d8e385c8-c611-4383-ba96-ffb5b76b9e21",
   "metadata": {},
   "source": [
    "***\n",
    "### __5.4 Loops Design Strategies__\n",
    "_The key to designing a loop is to identify the code that needs to be repeated and write a condition for terminating the loop._<br>\n",
    "<br>\n",
    "Consider three steps when writing a loop: <br>\n",
    "* Step 1: Identify the statements that need to be repeated. <br>\n",
    "* Step 2: Wrap these statements <br>\n",
    "> &emsp; __while__ (__true__) { <br>\n",
    "> &emsp; $\\;\\;$ Statements;<br>\n",
    "> &emsp; } <br>\n",
    "\n",
    "* Step 3: Code the __loop-continuation-condition__ and add appropriate statements controlling the loop. <br>\n",
    "> &emsp; __while__ (loop-continuation-condition) { <br>\n",
    "> &emsp; $\\;\\;$ Statements;<br>\n",
    "> &emsp; $\\;\\;$ Additional statements for controlling the loop;<br>\n",
    "> &emsp; } <br>"
   ]
  },
  {
   "cell_type": "markdown",
   "id": "7fe431d4-ab12-4fe3-b044-be39db407f62",
   "metadata": {},
   "source": [
    "#### Listing 5.4 SubstractionQuizLoop.java\n",
    "A program that generates five questions and, after a student answers all five, reports the number of correct answer. The program <br> \n",
    "also displays the time spent on test and lists all the questions."
   ]
  },
  {
   "cell_type": "code",
   "execution_count": 2,
   "id": "990abda9-7564-41b4-be35-17877eea49c3",
   "metadata": {},
   "outputs": [],
   "source": [
    "import java.util.Scanner;\n",
    "\n",
    "public class SubtractionQuizLoop {\n",
    "    public static void main(String[] args){\n",
    "        // Number of Questions\n",
    "        final int NUMBER_OF_QUESTIONS = 5;\n",
    "\n",
    "        // Number of correct answers\n",
    "        int correctCount = 0;\n",
    "\n",
    "        // Count the number of questions\n",
    "        int count = 0;\n",
    "        \n",
    "        long startTime = System.currentTimeMillis();\n",
    "\n",
    "        // Output string is initially empty\n",
    "        String output = \" \";\n",
    "\n",
    "        // Create Scanner class\n",
    "        Scanner input = new Scanner(System.in);\n",
    "\n",
    "        while(count < NUMBER_OF_QUESTIONS){\n",
    "            // 1. Generate two random single digit integers\n",
    "            int number1 = (int)(Math.random() * 10);\n",
    "            int number2 = (int)(Math.random() * 10);\n",
    "            // 2. If number1 < number2, swap number1 with number2\n",
    "           if (number1 < number2){\n",
    "            int temp;\n",
    "            temp = number1;\n",
    "            number1 = number2;\n",
    "            number2 = temp;\n",
    "           }\n",
    "           // 3. Prompt the student to answer \"What is number1 - number2?\"\n",
    "           System.out.print(\"What is \" + number1 + \" - \" + number2 + \"? \");\n",
    "           int answer = input.nextInt();\n",
    "\n",
    "           if(answer == number1 - number2){\n",
    "            System.out.println(\"You are correct!\");\n",
    "            // increase the correct answer count\n",
    "            correctCount++; \n",
    "           }\n",
    "           else{\n",
    "            System.out.println(\"Your answer is wrong.\\n \" + number1 + \" - \" + number2 + \" should be \"+ (number1 -number2));\n",
    "           }\n",
    "           count++;\n",
    "\n",
    "           output += \"\\n\" + number1 + \" - \" + number2 + \" = \" + answer + ((number1 - number2 == answer) ? \" correct\" : \" wrong\"); \n",
    "        }\n",
    "        long endTime = System.currentTimeMillis();\n",
    "        long testTime = endTime - startTime;\n",
    "\n",
    "        System.out.print(\"\\nCorrect count is \" + correctCount + \"\\nTest time is\" + testTime/1000 + \"second\\n\" + output);\n",
    "    }\n",
    "}"
   ]
  },
  {
   "cell_type": "markdown",
   "id": "08a01588-6722-4b9d-9344-b74fc50d17e5",
   "metadata": {},
   "source": [
    "Results:\n",
    "\n",
    "What is 5 - 2? 3 <bt>\n",
    "You are correct! <br>\n",
    "What is 4 - 0? 4 <br>\n",
    "You are correct! <br>\n",
    "What is 5 - 3? 3 <br>\n",
    "Your answer is wrong. <br>\n",
    " 5 - 3 should be 2 <br>\n",
    "What is 8 - 4? 7 <br>\n",
    "Your answer is wrong. <br>\n",
    " 8 - 4 should be 4 <br>\n",
    "What is 3 - 3? 0 <br>\n",
    "You are correct! <br>\n",
    "\n",
    "Correct count is 3 <br>\n",
    "Test time is12second <br>\n",
    "\n",
    "5 - 2 = 3 correct <br>\n",
    "4 - 0 = 4 correct <br>\n",
    "5 - 3 = 3 wrong <br>\n",
    "8 - 4 = 7 wrong <br>\n",
    "3 - 3 = 0 correct <br>"
   ]
  },
  {
   "cell_type": "code",
   "execution_count": null,
   "id": "1c946642-2a76-4bd8-83ee-b8b14a045b49",
   "metadata": {},
   "outputs": [],
   "source": []
  }
 ],
 "metadata": {
  "kernelspec": {
   "display_name": "Java",
   "language": "java",
   "name": "java"
  },
  "language_info": {
   "codemirror_mode": "java",
   "file_extension": ".jshell",
   "mimetype": "text/x-java-source",
   "name": "Java",
   "pygments_lexer": "java",
   "version": "11.0.16.1+9-LTS"
  }
 },
 "nbformat": 4,
 "nbformat_minor": 5
}
