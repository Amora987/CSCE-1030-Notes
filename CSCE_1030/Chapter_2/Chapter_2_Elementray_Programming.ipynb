{
 "cells": [
  {
   "cell_type": "markdown",
   "id": "a7fcd42a-70f6-4593-a857-a780df8a1a06",
   "metadata": {},
   "source": [
    "# Chapter 2 Elementary Programming"
   ]
  },
  {
   "cell_type": "markdown",
   "id": "0b5d2e1c-3ad8-4d23-98e7-75d8c733af24",
   "metadata": {},
   "source": [
    "### __2.1 Introduction__"
   ]
  },
  {
   "cell_type": "markdown",
   "id": "39384bf2-7807-4759-a786-150f0c0bc1d2",
   "metadata": {},
   "source": [
    "In this chapter you will learn how to solve problems by writing programs. Through these problems, <br>\n",
    "you will learn elementary programming using primitive data types, variables, constants, operators, <br>\n",
    "expressions, and input and output."
   ]
  },
  {
   "cell_type": "markdown",
   "id": "327c905e-5c45-457c-ac72-ab2880a7f835",
   "metadata": {},
   "source": [
    "***\n",
    "### 2.2 __Writing a Simple Program__\n",
    "_Writing a program involves designing a strategy for solving the problem then using a programming <br>\n",
    "language to implement that strategy._ <br>\n",
    "<br>\n",
    "<br>\n",
    "Let's first consider the simple _problem_ of computing the are of a circle. How do we write a program<br>\n",
    "for solving this problem? <br>\n",
    "<br>\n",
    "Writing a program involves designing algorithms and translating algorithms into programming instructions, <br>\n",
    "or code. An _algorithm_ lists the steps you can follow to solve a a problem. Algorithms can be described in <br>\n",
    "natural languages or in _pseudocode_."
   ]
  },
  {
   "cell_type": "markdown",
   "id": "f5aff28f-bc31-4d80-9b0a-98c52971f1c1",
   "metadata": {},
   "source": [
    "1. Read in circle's radius\n",
    "2. Compute the area using the following formula: <br>\n",
    "&emsp; area = radius * radius * pi <br>\n",
    "3. Display the result"
   ]
  },
  {
   "cell_type": "markdown",
   "id": "6414e506-ada9-4f09-9ee7-d1fbbe269aee",
   "metadata": {},
   "source": [
    "First we create the outline, every Java program begins with a class definition in which the keyword \"class\" <br>\n",
    "is followed by the class name. Let's say we name is ComputeArea as the class name:"
   ]
  },
  {
   "cell_type": "code",
   "execution_count": null,
   "id": "072aeebe-6cf4-4697-8432-18074ced2fdc",
   "metadata": {},
   "outputs": [],
   "source": [
    "//Ex: Naming a class ComputerArea\n",
    "public class ComputeArea {\n",
    "    //Details to be given later\n",
    "}"
   ]
  },
  {
   "cell_type": "markdown",
   "id": "39a7baac-27da-4378-b690-09bb44da8f4a",
   "metadata": {},
   "source": [
    "Every Java program must have a __main__ method where the program execution begins. This program is then <br>\n",
    "expanded as follows:"
   ]
  },
  {
   "cell_type": "code",
   "execution_count": null,
   "id": "e46b9ade-0a67-4d51-a37a-175b26edf937",
   "metadata": {},
   "outputs": [],
   "source": [
    "//Ex: Adding a main method to the class ComputeArea\n",
    "public class ComputeArea {\n",
    "    public static void main(String[] args) {\n",
    "        //Step 1: Read in radius\n",
    "        \n",
    "        //Step 2: Compute area\n",
    "        \n",
    "        //Step 3: Display the area\n",
    "    }\n",
    "}"
   ]
  },
  {
   "cell_type": "markdown",
   "id": "91f9b4fe-82c1-4682-850b-3723497fc91a",
   "metadata": {},
   "source": [
    "In order to store the radius, the program needs to declare a symbol called a _variable_. A variable represents <br>\n",
    "a value stored in the computer's memory. Give variables _descriptive names_ and specify their _data types_. <br>\n",
    "That is the kind of data stored in a variable, whether an integer, real number, or something else. This is known <br>\n",
    "as _declaring variables_. Java provides simple data types for representing integers, real numbers, characters, and <br>\n",
    "Boolean types. These types are know as _primitive data types_ or _fundamental types_. <br>\n",
    "<br>\n",
    "Numbers with a decimal point are known as _floating point_ in computers. Therefore, the real numbers are also called <br>\n",
    "_floating-point numbers_. In Java, you can use the keywork __double__ to declare a floating-point variable."
   ]
  },
  {
   "cell_type": "code",
   "execution_count": null,
   "id": "9b2f1246-8da5-42cf-843a-ad4e3ba89e12",
   "metadata": {},
   "outputs": [],
   "source": [
    "//Ex: Declaring radius and area as double\n",
    "public class ComputeArea {\n",
    "    public static void main(String[] args) {\n",
    "        double radius;\n",
    "        double area;\n",
    "        //Step 1: Read in radius\n",
    "        \n",
    "        //Step 2: Compute area\n",
    "        \n",
    "        //Step 3: Display the area\n",
    "    }\n",
    "}"
   ]
  },
  {
   "cell_type": "markdown",
   "id": "596dc54d-12a0-4935-81de-4ec1fc347e9d",
   "metadata": {},
   "source": [
    "The program declares __radius__ and __area__ as variables. The reserved word __double__ indicates that __radius__ <br>\n",
    "and __area__ are floating-point values stored in the computer. <br>\n",
    "<br>\n",
    "- First step assign a fixed value to __radius__ in the program as you write the code. <br>\n",
    "<br>\n",
    "- Second step is to compute __area__ by assigning the result of the expression __(radius * radius * 3.14159)__ to __area__.<br>\n",
    "<br>\n",
    " - Final step, the program will display the value of __area__ on the console by using the __System.out.println__ method."
   ]
  },
  {
   "cell_type": "code",
   "execution_count": 13,
   "id": "be6ebfc4",
   "metadata": {},
   "outputs": [],
   "source": [
    "//Ex: Listing 2.1 ComputeArea.java\n",
    "public class ComputeArea {\n",
    "    public static void main(String[] args) {\n",
    "        double radius; //Declare radius\n",
    "        double area; // Declare area\n",
    "        \n",
    "        //Assign a radius\n",
    "        radius = 20; // radius is now 20\n",
    "        \n",
    "        //Compute area\n",
    "        area = radius * radius * 3.14519;\n",
    "        \n",
    "        //Display results\n",
    "        System.out.println(\"The area for the cirlce of radius\" + radius + \" is \" + area); \n",
    "    }\n",
    "}       "
   ]
  },
  {
   "cell_type": "markdown",
   "id": "d454c30e-ee5f-4fec-9887-5a4d74aebcf5",
   "metadata": {},
   "source": [
    "***\n",
    "### 2.3 Reading Input from the Console\n"
   ]
  },
  {
   "cell_type": "markdown",
   "id": "b7c79632-3c69-4355-816b-9f38f2dc31fa",
   "metadata": {},
   "source": [
    "To use a different radius, you have to modify the source code and recompile it. This is not convenient <br>\n",
    "so instead you can use the __Scanner__ class for console input. <br>\n",
    "<br>\n",
    "Java uses __System.out__ to reger to the standard out device, and __System.in__ to the standard input device. <br>\n",
    "To perform console out you simply use the __println__ method to display a primitve value or a string to the <br>\n",
    "console. To perform console input, you need to use the Scanner class to create an object to read input from <br>\n",
    "__System.in__, as follows:"
   ]
  },
  {
   "cell_type": "code",
   "execution_count": 1,
   "id": "0faf89d3-4cae-4ec5-97c4-a9eac0d6f456",
   "metadata": {},
   "outputs": [],
   "source": [
    "// Scanner input = new Scanner(System.in);"
   ]
  },
  {
   "cell_type": "markdown",
   "id": "9f18fc8f-4086-4744-a621-05f8384426ee",
   "metadata": {},
   "source": [
    "The syntax __new Scanner(System.in)__ creates an object of the __Scanner__ type. The syntax __Scanner input__ declares <br>\n",
    "that __input__ is a variable whose type is __Scanner__. The whole line __Scanner input = new Scanner(System.in)__ creates a<br>\n",
    "__Scanner__ object and assigns its reference to the variable __input__. An object may invoke its methods. To invoke a method <br>\n",
    "on an object is to ask the object to perform a task. You can invoke the __nextDouble( )__ method to read a __double__ value as follows:"
   ]
  },
  {
   "cell_type": "code",
   "execution_count": 3,
   "id": "5e582151-ca79-4804-bcba-5eae6ebd2a42",
   "metadata": {},
   "outputs": [],
   "source": [
    "// double radius = input.nextDouble()"
   ]
  },
  {
   "cell_type": "markdown",
   "id": "f63a737b-59eb-4770-b281-8e37f616a5ac",
   "metadata": {},
   "source": [
    "#### Listing 2.2 ComputeAreaWithConsoleInput.java"
   ]
  },
  {
   "cell_type": "code",
   "execution_count": 7,
   "id": "56a6081b-aca9-4907-84d1-c2f1fd945eb3",
   "metadata": {},
   "outputs": [],
   "source": [
    "import java.util.Scanner; // Scanner is in the java.util package\n",
    "\n",
    "public class ComputeAreaWithConsoleInput {\n",
    "    public static void main(String[] args){\n",
    "        // Create a Scanner object\n",
    "        Scanner input = new Scanner(System.in);\n",
    "        \n",
    "        // Prompt the user to enter a radius\n",
    "        System.out.print(\"Enter a number for radius: \");\n",
    "        double radius = input.nextDouble();\n",
    "        \n",
    "        // Compute area\n",
    "        double area = radius * radius * 3.14159;\n",
    "        \n",
    "        // Display results\n",
    "        System.out.println(\"The area for the circle of radius \" + radius + \" is \" + area);\n",
    "        }\n",
    "}"
   ]
  },
  {
   "cell_type": "markdown",
   "id": "6a6cdfbe-cdc9-4b38-8760-88e9caf6c04f",
   "metadata": {},
   "source": [
    "#### Listing 2.3 ComputeAverage.java\n",
    "Gives an example of reading multiple inputs from the keyboard. The programs reads three numbers and displays their average."
   ]
  },
  {
   "cell_type": "code",
   "execution_count": 10,
   "id": "4052405d-3294-48c6-9b1d-dbcb0ba0d83b",
   "metadata": {},
   "outputs": [],
   "source": [
    "import java.util.Scanner; //Scanner is in the java.util package;\n",
    "\n",
    "public class ComputeAverage{\n",
    "    public static void main(String[] args){\n",
    "        //Create a Scanner object \n",
    "        Scanner input = new Scanner(System.in);\n",
    "        \n",
    "        //Prompt the user to enter three numbers\n",
    "        System.out.print(\"Enter three numbers: \");\n",
    "        \n",
    "        double number1 = input.nextDouble();\n",
    "        double number2 = input.nextDouble();\n",
    "        double number3 = input.nextDouble();\n",
    "        \n",
    "        //Compute average\n",
    "        double average = (number1 + number2 + number3) / 3;\n",
    "        \n",
    "        //Display Results\n",
    "        System.out.println(\"The average of \" + number1 + \" \" + number2 + \" \" + number3 + \" is \" + average);\n",
    "    }\n",
    "}"
   ]
  },
  {
   "cell_type": "markdown",
   "id": "90acfdc4-335a-4188-9494-606a17beb650",
   "metadata": {},
   "source": [
    "You may enter three numbers separated by spaces, then press the _Enter_ key, or enter each number followed by a press of the <br>\n",
    "_Enter_ key. <br>\n",
    "<br>\n",
    "Note: Most of the programs in the early chapters of this book perform three steps - input, process and outout - called _IPO_"
   ]
  },
  {
   "cell_type": "markdown",
   "id": "7b337a1c-5d27-4fcf-a170-72f208366f85",
   "metadata": {},
   "source": [
    "***\n",
    "### 2.4 Indentifiers\n",
    "_Indentifiers are the names that identify the elements such as classes, methods and variables in a program._"
   ]
  },
  {
   "cell_type": "markdown",
   "id": "8a0081d5-3c14-4b4f-8b52-ec1c88e901f8",
   "metadata": {},
   "source": [
    "In programming terminology, such as names are called _identifiers_. All identifiers must obey the following rules:<br>\n",
    "- An identifier is a sequence of characters that consist of letters, digits, underscores ( _ ), and dollar signs.\n",
    "- An identifier must start with a letter,an underscore ( _ ), or a dollar sign. It cannot start with a digit\n",
    "- An identifier cannot be a reserved word.\n",
    "- An identifier cannot be true, false or null\n",
    "- An identifier can be of any length\n",
    "Note: Java is case sensitive, area, Area, AREA are all different identifiers."
   ]
  },
  {
   "cell_type": "markdown",
   "id": "f1bca820-b7b2-40db-a280-e83e46176058",
   "metadata": {},
   "source": [
    "*** \n",
    "### 2.5 Variables \n",
    "_Variables are used to represent values that may be changed in the program_"
   ]
  },
  {
   "cell_type": "markdown",
   "id": "98072eec-9fe3-4b1f-9b51-c78f06b9a066",
   "metadata": {},
   "source": [
    "They are called variables because their values can be changed. For example, in the following code, radius is initially 1.0 <br>\n",
    "then changed to 2.0, and the area is set to 3.14159 then reset to 12.56636:"
   ]
  },
  {
   "cell_type": "code",
   "execution_count": 11,
   "id": "e631d9b8-768e-4639-bd04-0fbe469bb368",
   "metadata": {},
   "outputs": [
    {
     "ename": "CompilationException",
     "evalue": "",
     "output_type": "error",
     "traceback": [
      "\u001b[1m\u001b[30m|   \u001b[1m\u001b[30m\u001b[0m\u001b[1m\u001b[30m\u001b[41mradius\u001b[0m\u001b[1m\u001b[30m = 1.0;\u001b[0m",
      "\u001b[1m\u001b[31mcannot find symbol\u001b[0m",
      "\u001b[1m\u001b[31m  symbol:   variable radius\u001b[0m",
      ""
     ]
    }
   ],
   "source": [
    "// Compute the first area\n",
    "radius = 1.0;\n",
    "area = radius * radius * 3.14159;\n",
    "System.out.println(\"The area is \" + area + \" for radius \" + radius);"
   ]
  },
  {
   "cell_type": "code",
   "execution_count": 12,
   "id": "ee02428b-a3e2-421e-8dc3-912738269357",
   "metadata": {},
   "outputs": [
    {
     "ename": "CompilationException",
     "evalue": "",
     "output_type": "error",
     "traceback": [
      "\u001b[1m\u001b[30m|   \u001b[1m\u001b[30m\u001b[0m\u001b[1m\u001b[30m\u001b[41mradius\u001b[0m\u001b[1m\u001b[30m = 2.0;\u001b[0m",
      "\u001b[1m\u001b[31mcannot find symbol\u001b[0m",
      "\u001b[1m\u001b[31m  symbol:   variable radius\u001b[0m",
      ""
     ]
    }
   ],
   "source": [
    "// Compute the second area\n",
    "radius = 2.0;\n",
    "area = radius * radius * 3.14159;\n",
    "System.out.println(\"The area is \" + area + \" for radius \" + radius);"
   ]
  },
  {
   "cell_type": "markdown",
   "id": "ac7a46cd-901b-4df2-b095-afc25a18b96a",
   "metadata": {},
   "source": [
    "Variables are for representing data of a certain type. To use a variable, you declare it by telling the compiler its name <br> \n",
    "as well as what type of data it can store. The _variable declaration_ tells the compiler to allocate memory space for the variable <br>\n",
    "based on its data type. The syntax for declaring a variable is:"
   ]
  },
  {
   "cell_type": "code",
   "execution_count": 13,
   "id": "346b76ff-ede0-4294-9bc0-5e8d764a22a4",
   "metadata": {},
   "outputs": [],
   "source": [
    "int count; // Declare count to be an integer variable\n",
    "double radius; // Declare radius to be a double variable\n",
    "double interestRate; // Declare interestRate to be a double variable"
   ]
  },
  {
   "cell_type": "markdown",
   "id": "9a55b3ae-faff-4e35-b3db-753842ea1210",
   "metadata": {},
   "source": [
    "Variables are of the same type, they can be declared together, as follows: <br>\n",
    "dataype variable1, variable2, variable3; <br>\n",
    "<br>\n",
    "You can declare a variable and initialize it in one step: <br>\n",
    "int count = 1 <br>\n",
    "<br>\n",
    "You can also use a shorthand form to declare and initialize variables of the same type together. For example: <br>\n",
    "int i = 1, j = 2;\n"
   ]
  },
  {
   "cell_type": "markdown",
   "id": "05887de1-1ca5-4ae6-91b9-196732a4b86f",
   "metadata": {},
   "source": [
    "***\n",
    "### 2.6 Assignment Statements and Assignment Expressions\n",
    "_An assignment statement designates a value for a variable. An assignment statement can be used as an expression in Java._"
   ]
  },
  {
   "cell_type": "markdown",
   "id": "702c7e86-ce05-42e6-a291-a628de5380c0",
   "metadata": {},
   "source": [
    "After a variable is declared, you can assign a value to it by using an _assignment statement_. In Java, the equal sign ( = )<br>\n",
    "is used as the _assignment operator_.The syntax for assignment statement is as follows: <br>\n",
    "__variable = expression;__<br>\n",
    "<br>\n",
    "An _expression_ represents a computation involving values, variables, and operators that, taking them together, evaluates <br>\n",
    "to a value. For example:<br>\n",
    "<br>\n",
    "int y = 1; //Assign 1 to variable y <br>\n",
    "<br>\n",
    "double radius = 1.0; //Assign 1.0 to variable radius <br>\n",
    "<br>\n",
    "int x = 5 * (3 / 2); //Assign the value of the expression to x <br>\n",
    "<br>\n",
    "double area = radius * radius * 3.14159; //Compute Area"
   ]
  },
  {
   "cell_type": "markdown",
   "id": "4bd4582b-942f-4c31-b66e-ac0e31f25d05",
   "metadata": {},
   "source": [
    "***\n",
    "### 2.7 Named Constants\n",
    "_A named constant is an identifier that represents a permanent value._"
   ]
  },
  {
   "cell_type": "markdown",
   "id": "319a6b0e-79b0-431a-b7fc-74e2dcfe3490",
   "metadata": {},
   "source": [
    "The value of a variable may change during the execution of a program, but a _named constant_, or simply _constant_, represents <br>\n",
    "permanent data that never changes. A constant is also known as a _final variable_ in Java. In our __ComputeArea__ program, pi is <br>\n",
    "constant. If you use it frequently, you don't want to keep typing 3.14159; instead, you can declare a constant for __pi__. Here is <br>\n",
    "the syntax for declaring a constant:<br>\n",
    "<br>\n",
    "__final__ datatype CONSTANTNAME = value; <br>\n",
    "<br>\n",
    "A constant must be declared and initialized in the same statement. The word __final__ is a Java keyword for declaring a constant. <br>\n",
    "By convention, all letters in a constant are in uppercase."
   ]
  },
  {
   "cell_type": "markdown",
   "id": "4241a1b7-9afd-4303-a99e-6b2a90df570b",
   "metadata": {},
   "source": [
    "#### Listing 2.4 ComputeAreaWithConstant.java"
   ]
  },
  {
   "cell_type": "code",
   "execution_count": null,
   "id": "22acc50e-0b7a-4a74-a8c7-3fd29ad2265b",
   "metadata": {},
   "outputs": [],
   "source": [
    "import java.util.Scanner; // Scanner is in the java.util package\n",
    "\n",
    "public class ComputeAreaWithConstant{\n",
    "    public static void main(String[] args){ \n",
    "        final double PI = 3.14159; //declare a constant\n",
    "        \n",
    "        //Create a Scanner object\n",
    "        Scanner input = new Scanner(System.in);\n",
    "        \n",
    "        //Prompt the user to enter a radius\n",
    "        System.out.print(\"Enter a number for radius: \");\n",
    "        double radius = input.nextDouble();\n",
    "        \n",
    "        //Compute area\n",
    "        double area = radius * radius * PI;\n",
    "        \n",
    "        //Display Result\n",
    "        System.out.println(\"The area of the circle of radius \" + radius + \" is \" + area);\n",
    "    }\n",
    "}"
   ]
  },
  {
   "cell_type": "markdown",
   "id": "79a223b1-16f3-45eb-8334-a3dd477e06c3",
   "metadata": {},
   "source": [
    "***\n",
    "### 2.8 Naming Conventions\n",
    "_Sticking with the Java naming conventions makes your programs easy to read and avoid errors_"
   ]
  },
  {
   "cell_type": "markdown",
   "id": "3fefdbd4-9939-4391-b651-8ee6394d6671",
   "metadata": {},
   "source": [
    "***\n",
    "### 2.9 Numeric Data Types and Operations\n",
    "_Java has six numeric types of integers and floating-points numbers with operators +, -, *, /, and %._"
   ]
  },
  {
   "cell_type": "markdown",
   "id": "ca126c94-df6c-4866-992e-692d55da0c3c",
   "metadata": {},
   "source": [
    "#### 2.9.1 Numeric Types\n",
    "Every data type has a range of values. The compiler allocates the memory space for each variable or constant according to its <br>\n",
    "data type. Java provides eight primitive data types for numeric values, characters, and Boolean values. This section introduces <br>\n",
    "numeric data types and operators. <br>\n",
    "- __byte__: -2^7 to 2^7 - 1\n",
    "- __short__: -2^15 to 2^15 - 1\n",
    "- __int__: -2^31 to 2^31 - 1\n",
    "- __long__: -2^63 to 2^63 - 1\n",
    "- __float__:\n",
    "- __double__:\n",
    "<br>\n",
    "Java uses four type for integers: byte, short int, and long. Choose the type that is most appropriate for your variable. Java uses two <br>\n",
    "types for floating-point numbers: float and double. The double type is twice as big as float, so the double is known as _double precision_ <br>\n",
    "and float as _single precision_."
   ]
  },
  {
   "cell_type": "markdown",
   "id": "d334df7a-0b3c-416b-9835-0b42df4d33aa",
   "metadata": {},
   "source": [
    "#### 2.9.2 Reading Numbers from the Keyboard\n",
    "You know how to use the __nextDouble( )__ method in the __Scanner__ class to read a double value from the keyboard. You can also <br>\n",
    "the methods listed aboved to read a number of byte, short, int, long and float type. <br>\n",
    "- nextByte( )\n",
    "- nextShort( )\n",
    "- nextInt( )\n",
    "- nextLong( )\n",
    "- nextFloat( )\n",
    "- nextDouble( )"
   ]
  },
  {
   "cell_type": "markdown",
   "id": "c76235d5-007d-4979-a922-721cf5e257be",
   "metadata": {},
   "source": [
    "#### 2.9.3 Numeric Operators\n",
    "The operators for numeric data types include the standard arithmetic operators: addition ( + ), subtraction ( - ), multiplication ( * ),<br>\n",
    "division ( / ), and the remainder ( % ). <br>\n",
    "<br>\n",
    "When both operands of a division are integers, the result of the division is the quotient and the fractional part is truncated. For example, <br>\n",
    "5 / 2 yields 2, not 2.5, and -5 / 2 yields -2 not -2.5. To perform a floating-point division, one of the operands must be a floating-point number.<br> For example 5.0 / 2 yields 2.5.<br>"
   ]
  },
  {
   "cell_type": "code",
   "execution_count": 14,
   "id": "a1013244-ccee-4293-8e59-9fd737a08da3",
   "metadata": {},
   "outputs": [],
   "source": [
    "import java.util.Scanner;\n",
    "\n",
    "public class Displaytime {\n",
    "    public static void main(String[] args){\n",
    "        Scanner input = new Scanner(System.in);\n",
    "        \n",
    "        //Prompt the user for input\n",
    "        System.out.print(\"Enter an integer for seconds: \");\n",
    "        int seconds = input.nextInt();\n",
    "        \n",
    "        int minutes = seconds / 60; // Find minutes in seconds\n",
    "        int remainingSeconds = seconds % 60; //seconds remaining\n",
    "        System.out.println(seconds + \" seconds is \" + minutes + \" minutes and \" + remainingSeconds + \" seconds\");\n",
    "    }\n",
    "}"
   ]
  },
  {
   "cell_type": "markdown",
   "id": "d305007b-47bd-426a-b567-b8486342f47b",
   "metadata": {},
   "source": [
    "#### 2.9.4 Exponent Operations\n",
    "The __Math.pow(a,b)__ method can be used to compute a^b.The __pow__ method is defined in the __Math__ class in Java API. <br>\n",
    "You invoke the method using the syntax __Math.pow(a,b)__ which returns a^b. Here __a__ and __b__ are parameters for the __pow__ <br>\n",
    "method and the numbers __2__ and __3__ are actual values used to invoke the method. For example: <br>\n",
    "- System.out.println(Math.pow(2, 3)); //Displays 8.0\n",
    "- System.out.println(Math.pow(4, 0.05)); //Displays 2.0 \n",
    "- System.out.println(Math.pow(2.5, 2)); //Displays 6.25\n",
    "- System.out.println(Math.pow(2.5, -2)); //Displays 0.16"
   ]
  },
  {
   "cell_type": "markdown",
   "id": "01d939c0-e4aa-4956-860a-7283fff10271",
   "metadata": {},
   "source": [
    "***\n",
    "### 2.10 Numerical Literals\n",
    "_A literal is a constant value that appears directly in a program_"
   ]
  },
  {
   "cell_type": "markdown",
   "id": "4cdc90d5-f78a-46d4-89a4-80d402836b7b",
   "metadata": {},
   "source": [
    "For example, 34 and 0.305 are literals in the following statements:"
   ]
  },
  {
   "cell_type": "code",
   "execution_count": 1,
   "id": "bbc5dcf1-8d85-4166-a1dc-d3505ac1862e",
   "metadata": {},
   "outputs": [],
   "source": [
    "int numberOfYEars= 34;\n",
    "double weight = 0.304;"
   ]
  },
  {
   "cell_type": "markdown",
   "id": "66eb53cc-f854-4a48-87f6-b1ee7a57f217",
   "metadata": {},
   "source": [
    "#### 2.10.1 Integer Literals\n",
    "An integer literal can be assigned to an integer variable as long as it can fit into the variable. A compile error will occur <br>\n",
    "if the liteal is too large for the variable to hold. The statement __byte b = 128__, for example, will cause a compile error <br> \n",
    "because __128__ cannot be stored in a variable of the __byte__ type. __(Note the range of a byte value is -128 to 127)__"
   ]
  },
  {
   "cell_type": "markdown",
   "id": "030b0d04-3530-42d3-8429-3811c17f0264",
   "metadata": {},
   "source": [
    "#### 2.10.2 Floating-Point Literals "
   ]
  },
  {
   "cell_type": "markdown",
   "id": "f66a7b40-fb05-4a93-bfc3-2525c44b0e1d",
   "metadata": {},
   "source": [
    "Floating-point literals are written with a decimal point. By default, a floating-point literal is treated as a __double__ type value. <br>\n",
    "For example, __5.0__ is considered a __double__ value, not a __float__ value. You can make a number a __float__ by appending the letter <br>\n",
    "__f__ or __F__, and you can make a number a __double__ by appending the letter __d__ or __D__. For example you can use the <br>\n",
    "__100.2f__ or __100.2F__ for a __float__ number, and __100.2d__ or __100.2D__ for a __double__ number."
   ]
  },
  {
   "cell_type": "markdown",
   "id": "5acabfd9-fd6f-41ff-bfa2-cbea2534059a",
   "metadata": {},
   "source": [
    "***\n",
    "### 2.11 Evaluating Expression and Operator Precedence\n",
    "_Java expressions are evaluated in the same way as arithmetic expressions_"
   ]
  },
  {
   "cell_type": "markdown",
   "id": "d94754cb-4aa5-4c27-8572-893851c01011",
   "metadata": {},
   "source": [
    "Writing a numeric expression in Java invovles a straightforward translationg of an arithmetic expression using Java operators.<br>\n",
    "<br>\n",
    "<br>\n",
    "- Multiplication, division and remainder operators are applied first.\n",
    "- Addition and Subtraction operators are applied last."
   ]
  },
  {
   "cell_type": "markdown",
   "id": "540da083-d5a7-4d39-8d65-3aaa7729c36f",
   "metadata": {},
   "source": [
    "#### Listing 2.6 FahrenheitToCelsius.java"
   ]
  },
  {
   "cell_type": "code",
   "execution_count": 2,
   "id": "7c25b433-7774-4bce-bdc7-fbc6701a96a4",
   "metadata": {},
   "outputs": [],
   "source": [
    "import java.util.Scanner;\n",
    "\n",
    "public class FahrenheitToCelsius {\n",
    "    public static void main(String[] args){\n",
    "        Scanner input = new Scanner(System.in);\n",
    "\n",
    "        System.out.println(\"Enter a degree in Fahrenheit: \");\n",
    "        double fahrenheit = input.nextDouble();\n",
    "        \n",
    "        // Convert Fahrenheit to Celsius\n",
    "        double celsius = (5.0/9) * (fahrenheit - 32);\n",
    "        System.out.println(\"Fahrenheit \" + fahrenheit + \" is \" + celsius + \" in Celsius\");\n",
    "\n",
    "\n",
    "    }\n",
    "    \n",
    "}"
   ]
  },
  {
   "cell_type": "markdown",
   "id": "9e505cab-d4ea-47e6-a971-edb8e4a92165",
   "metadata": {},
   "source": [
    "***\n",
    "### 2.13 Augmented Assignment Operators\n",
    "_The operators +, -, *, /, and % can be combined with the assignment operator to form augmented operators_ <br>\n",
    "<br>\n",
    "Very often, the current value of a variable is used, modified, then reassigned back to the same variable. <br>\n",
    "For example, the following statement increases the variable __count__ by __1__. <br>\n",
    "<br>\n",
    "count = count + __1__;<br>\n",
    "<br>\n",
    "Java allows you to combine assignment and addition operators using an augmented assignment operator.<br>\n",
    "<br>\n",
    "count += __1__; <br>\n",
    "<br>\n",
    "The __+=__ is called the _addition assignment operator_. Table 2.4 Shows other augmented assignment operators."
   ]
  },
  {
   "cell_type": "markdown",
   "id": "1c449dc0-3e54-4d33-b0be-25f697b69404",
   "metadata": {},
   "source": [
    "***\n",
    "### 2.14 Increment and Decrement Operators\n",
    "_The increment operator ( + + ) and decrement operator ( - - ) are for incrementing and decrementing a variable by 1_ <br>\n",
    "<br>\n",
    "The __+ +__ and __ - - __ are two shorthand operators for incrementing and decrementing a variable by __1__."
   ]
  },
  {
   "cell_type": "code",
   "execution_count": 1,
   "id": "543fc628-fde7-4caa-a37a-6f6495733442",
   "metadata": {},
   "outputs": [
    {
     "data": {
      "text/plain": [
       "3"
      ]
     },
     "execution_count": 1,
     "metadata": {},
     "output_type": "execute_result"
    }
   ],
   "source": [
    "int i = 3, j = 3;\n",
    "i++; // i becomes 4\n",
    "j--; // j becomes 2"
   ]
  },
  {
   "cell_type": "markdown",
   "id": "af199db6-c2b4-4f27-80e8-430ed42ce778",
   "metadata": {},
   "source": [
    "These operators are known as _postfix increment_ and _postfix decrement_, because the operators __+ +__ and <br>\n",
    "__- -__ are placed after the variable."
   ]
  },
  {
   "cell_type": "code",
   "execution_count": 3,
   "id": "f215599b-910c-4657-960e-e65f176a98cf",
   "metadata": {},
   "outputs": [
    {
     "data": {
      "text/plain": [
       "2"
      ]
     },
     "execution_count": 3,
     "metadata": {},
     "output_type": "execute_result"
    }
   ],
   "source": [
    "int i = 3, j = 3;\n",
    "++i; // i becomes 4\n",
    "--j; // j becomes 2"
   ]
  },
  {
   "cell_type": "markdown",
   "id": "8607ad64-ed3f-41f5-bbdd-c5ec7660cda9",
   "metadata": {},
   "source": [
    "__++i__  increments __i__ by __1__ and __--j__ decrements __j__ by __1__. These operators are known as _prefix increment_ <br>\n",
    "and _prefix decrement_."
   ]
  },
  {
   "cell_type": "code",
   "execution_count": 4,
   "id": "6908087d-38a6-40d1-8006-f6fed6a8f97a",
   "metadata": {},
   "outputs": [
    {
     "name": "stdout",
     "output_type": "stream",
     "text": [
      "i is 11, newNum is 100"
     ]
    }
   ],
   "source": [
    "int i = 10;\n",
    "int newNum = 10 * i++;\n",
    "System.out.print(\"i is \" + i + \", newNum is \" + newNum);"
   ]
  },
  {
   "cell_type": "code",
   "execution_count": 5,
   "id": "501e49bb-6d3b-4334-9467-0ed0a5d34170",
   "metadata": {},
   "outputs": [
    {
     "name": "stdout",
     "output_type": "stream",
     "text": [
      "i is 11, newNum is 110"
     ]
    }
   ],
   "source": [
    "int i = 10;\n",
    "int newNum = 10 * (++i);\n",
    "System.out.print(\"i is \" + i + \", newNum is \" + newNum);"
   ]
  },
  {
   "cell_type": "markdown",
   "id": "b29cdcd8-6590-42ae-a751-ca3bbd155a40",
   "metadata": {},
   "source": [
    "***\n",
    "### 2.15 Numeric Type Conversions\n",
    "_Floating-point numbers can be converted into integers using explicit casting._\n",
    "<br>\n",
    "If an integer and a floating-point number are involved in a binary operation, Java automatically converts the integer <br>\n",
    "to floating-point value. Therefor __3 * 4.5__ is the same as __3.0 * 4.5__. <br>\n",
    "\n",
    "_Casting_ is an operation that converts a valueof one data type into a value of another data type. Casting a type <br>\n",
    "with a small range to a type with a larger range is known as _widening a type_.<br>\n",
    "<br>\n",
    "Casting a type with a large range to a type with a smaller range is known as _narrowing a type_. <br>\n",
    "<br>\n",
    "Syntax examples below:"
   ]
  },
  {
   "cell_type": "code",
   "execution_count": 6,
   "id": "fe3fc6bb-0adb-4802-92cb-2b028a0164f2",
   "metadata": {},
   "outputs": [
    {
     "name": "stdout",
     "output_type": "stream",
     "text": [
      "1\n"
     ]
    }
   ],
   "source": [
    "System.out.println((int)1.7);"
   ]
  },
  {
   "cell_type": "markdown",
   "id": "20af2c51-d8f1-4c8d-9f88-2b95cacd76ba",
   "metadata": {},
   "source": [
    "Displays __1__. When a __double__ value is cast into an __int__ value, the fractional part is truncated. <br>\n",
    "The following statement:"
   ]
  },
  {
   "cell_type": "code",
   "execution_count": 8,
   "id": "fa8663ff-ce1d-42e7-ba26-4dd1446d3a6f",
   "metadata": {},
   "outputs": [
    {
     "name": "stdout",
     "output_type": "stream",
     "text": [
      "0.5\n"
     ]
    }
   ],
   "source": [
    "System.out.println((double)1/2);"
   ]
  },
  {
   "cell_type": "markdown",
   "id": "60529465-584a-4bce-ba28-50d49a84298d",
   "metadata": {},
   "source": [
    "Displas __0.5__, because __1__ is cast to __1.0__ first, then __1.0__ is divided by __2__. <br>\n",
    "However, the statement:"
   ]
  },
  {
   "cell_type": "code",
   "execution_count": 9,
   "id": "fe7d44a9-121a-4f1a-812a-395f05db5c9d",
   "metadata": {},
   "outputs": [
    {
     "name": "stdout",
     "output_type": "stream",
     "text": [
      "0\n"
     ]
    }
   ],
   "source": [
    "System.out.println(1/2);"
   ]
  },
  {
   "cell_type": "markdown",
   "id": "f86f0565-0847-456f-a22d-1a58c7ef4a15",
   "metadata": {},
   "source": [
    "Displays __0__, because __1__ and __2__ are both integers and the resulting value should also be an integer."
   ]
  },
  {
   "cell_type": "markdown",
   "id": "119b9c42-8f94-4ddf-95bd-65a11e986d94",
   "metadata": {},
   "source": [
    "#### Listing 2.8 SalesTax.java"
   ]
  },
  {
   "cell_type": "code",
   "execution_count": 12,
   "id": "e5f61d0f-4bbd-401b-8d31-86439ba6d2f0",
   "metadata": {},
   "outputs": [],
   "source": [
    "import java.util.Scanner;\n",
    "\n",
    "public class SalesTax{\n",
    "    public static void main(String[] args){\n",
    "        Scanner input = new Scanner(System.in);\n",
    "        \n",
    "        System.out.print(\"Enter purchase amount: \");\n",
    "        double purchaseAmount = input.nextDouble();\n",
    "        \n",
    "        double tax = purchaseAmount * 0.06;\n",
    "        System.out.println(\"Sales tax is $\" + (int)(tax * 100)/100);\n",
    "    }\n",
    "}\n",
    "\n",
    "// 197.55\n",
    "// Sales tax is $11.85"
   ]
  }
 ],
 "metadata": {
  "kernelspec": {
   "display_name": "Java",
   "language": "java",
   "name": "java"
  },
  "language_info": {
   "codemirror_mode": "java",
   "file_extension": ".jshell",
   "mimetype": "text/x-java-source",
   "name": "Java",
   "pygments_lexer": "java",
   "version": "11.0.16.1+9-LTS"
  }
 },
 "nbformat": 4,
 "nbformat_minor": 5
}
