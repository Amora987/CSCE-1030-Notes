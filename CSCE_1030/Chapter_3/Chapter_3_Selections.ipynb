{
 "cells": [
  {
   "cell_type": "markdown",
   "id": "a6200681-8b43-4bc7-a640-eb9191d49193",
   "metadata": {},
   "source": [
    "## Chapter 3 Selections\n",
    "***"
   ]
  },
  {
   "cell_type": "markdown",
   "id": "61ef4026-5da6-4e5e-a515-27363a1767e9",
   "metadata": {},
   "source": [
    "### 3.1 Introduction\n",
    "_The program can decide which statements to execute based on condition._ <br>\n",
    "<br>\n",
    "Selection statements use conditions that are Boolean expresssions. A _Boolean expression_ is an expression <br>\n",
    "that evaluates to _Boolean value_: __true__ or __false__. We now introduce the __boolean__ type and relational operators."
   ]
  },
  {
   "cell_type": "markdown",
   "id": "4ea9a199-f1d8-4760-914e-acfde9c4c6d4",
   "metadata": {},
   "source": [
    "***\n",
    "### 3.2 boolean Data Type\n",
    "_The __boolean__ data type declares a variable with the value either __true__ or __false__._<br>\n",
    "<br>\n",
    "Java provides six _relational operators_ (also known as _comparison operators_), shown in Table 3.1, <br>\n",
    "which can be used to compare two values.<br>\n",
    "<br>\n",
    "The results of the comparison is a Boolean value: __true__ or __false__. The __boolean__ data type is used <br>\n",
    "declare Boolean variables. A __boolean__ variable can hold one of the two values: __true__ or __false__."
   ]
  },
  {
   "cell_type": "markdown",
   "id": "4fe34c43-1608-4755-b6c2-531e6312851a",
   "metadata": {},
   "source": [
    "#### Listing 3.1 AdditionQuiz.java"
   ]
  },
  {
   "cell_type": "code",
   "execution_count": 3,
   "id": "35decfdc-a52e-49a1-98c3-011df7003f6c",
   "metadata": {},
   "outputs": [],
   "source": [
    "import java.util.Scanner;\n",
    "\n",
    "public class AdditionQuiz{\n",
    "    public static void main(String[]  args){\n",
    "        int number1 = (int)(System.currentTimeMillis() % 10);\n",
    "        int number2 = (int)(System.currentTimeMillis() / 10 % 10);\n",
    "        \n",
    "        //Create a Scanner\n",
    "        Scanner input = new Scanner(System.in);\n",
    "        System.out.print(\"What is \" + number1 + \" + \" + number2 + \"? \");\n",
    "        \n",
    "        int answer = input.nextInt();\n",
    "        \n",
    "        System.out.println(number1 + \" + \" + number2 + \" = \" + answer + \" is \" + (number1 + number2 == answer));\n",
    "    }\n",
    "}\n",
    "//Randomly generated: What is 1 + 3? \n",
    "// input: 4\n",
    "// output: 1 + 3 = 4 is true"
   ]
  },
  {
   "cell_type": "markdown",
   "id": "18254da4-d3a7-40cf-8f38-ee1b6056024e",
   "metadata": {},
   "source": [
    "***\n",
    "### 3.3 if Statements\n",
    "_an __if__ statement is a construct that enables a program to specif alternative paths of execution_ <br>\n",
    "<br>\n",
    "Java has several types of selection statements: one-way __if__ statements, two-way __if-else__ statements,<br>\n",
    "nested __if__ statements, multi-way __if-else__ statements, __switch__ statements, and for a one-way __if__ statement <br>\n",
    "is as follows:"
   ]
  },
  {
   "cell_type": "markdown",
   "id": "c3bf388f-3c2b-4c6e-a8ac-4ab8485efc98",
   "metadata": {},
   "source": [
    "if (boolean-expression) { <br>\n",
    "&emsp; statement(s);<br>\n",
    "}<br>\n",
    "<br>\n",
    "If the __boolean expression__ evaluates to __true__, the statements in the block are executed.<br>\n",
    "As an examples, see the following code:"
   ]
  },
  {
   "cell_type": "code",
   "execution_count": null,
   "id": "6e934d50-3933-45bb-bc10-58c024e3ec46",
   "metadata": {},
   "outputs": [],
   "source": [
    "if (radius >= 0){\n",
    "    area = radius * radius * PI;\n",
    "    System.out.println(\"The area for the circle of radius \" + radius + \" is \" + area);\n",
    "}"
   ]
  },
  {
   "cell_type": "markdown",
   "id": "f8e67df9-bf45-4644-b1fa-9b02877b3b75",
   "metadata": {},
   "source": [
    "If the value of __radius__ is greater than or equal to __0__, then the __area__ is computed <br>\n",
    "and the result is displayed; otherwise the two statements in the blok will not be executed.<br>\n",
    "<br>\n",
    "The __boolean-expression__ is enclosed in parentheses."
   ]
  },
  {
   "cell_type": "markdown",
   "id": "40e670fb-6786-4fc2-a20f-764c00c4a70d",
   "metadata": {},
   "source": [
    "#### Listing 3.2 SimpleIfDemo.java"
   ]
  },
  {
   "cell_type": "code",
   "execution_count": 5,
   "id": "5e1f1f66-b00c-4420-ad04-3fe0717f9b3d",
   "metadata": {},
   "outputs": [],
   "source": [
    "import java.util.Scanner;\n",
    "\n",
    "public class SimpleIfDemo{\n",
    "    public static void main(String[] args){\n",
    "        Scanner input = new Scanner(System.in);\n",
    "        System.out.print(\"Enter an integer: \");\n",
    "        int number = input.nextInt();\n",
    "        \n",
    "        if(number % 5 == 0)\n",
    "            System.out.println(\"HiFive\");\n",
    "        if(number % 2 == 0)\n",
    "            System.out.println(\"HiEven\");\n",
    "    }\n",
    "}\n",
    "\n",
    "// display - Enter an intger: 4\n",
    "// output - HiEven\n",
    "\n",
    "// display - Enter an integer: 30\n",
    "// output - HiFive\n",
    "// output - HiEven"
   ]
  },
  {
   "cell_type": "markdown",
   "id": "b10f19fa-3683-436d-afec-a8413ef50eb7",
   "metadata": {},
   "source": [
    "The program prompts the user to enter an integer and displays __HiFive__ if it is divisibe by __5__<br>\n",
    "and __HiEven__ if it is divisible by __2__."
   ]
  },
  {
   "cell_type": "markdown",
   "id": "6b2f195d-22ce-48a4-a051-ebdb4f156142",
   "metadata": {},
   "source": [
    "***\n",
    "### 3.4 Two-Way __if-else__ Statements\n",
    "_An __if-else__ statement decides the execution path based on whether the condition is true or false_ <br>\n",
    "<br>\n",
    "A one-way __if__ statement performs an action if the specified condition is __true__. If the condition is <br>\n",
    "__false__, nothing is done. <br>\n",
    "<br>\n",
    "A two-way __if-else__ statement specifies diff based on whether the condition is __true__ or __false__.<br>\n",
    "Syntax for two-way __if-else__ statement:<br>\n",
    "<br>\n",
    "if (boolean-expression) {<br>\n",
    "&emsp; statement(s)-for-the-true-case;<br>\n",
    "}<br>\n",
    "else { <br>\n",
    "&emsp; statement(s)-for-the-false-case; <br>\n",
    "}<br>\n",
    "<br>\n",
    "<br>\n",
    "If the __boolean-expression__ evaluates to __true__, the statement(s) for the true case are executed; otherwise <br>\n",
    "the statement(s) for the __false__ cases are executed. For example, consider the following code:"
   ]
  },
  {
   "cell_type": "code",
   "execution_count": null,
   "id": "0b92fd3e-2275-41cc-9b01-4fc66483c460",
   "metadata": {},
   "outputs": [],
   "source": [
    "if (radius >= 0){\n",
    "    area = radius * radius * PI;\n",
    "    System.out.println(\"The area for the circle of radius \" + radius + \" is \" + area);\n",
    "}\n",
    "else {\n",
    "    System.out.println(\"Negative input\");\n",
    "}"
   ]
  },
  {
   "cell_type": "markdown",
   "id": "a5b11eb7-2c68-4887-ba44-3e9f71e5a0e9",
   "metadata": {},
   "source": [
    "***\n",
    "### 3.5 Nested if and Multi-Way if-else Statements\n",
    "_An __if__ statement can be inside another __if__ statement to form a nested __if__ statement.\n",
    "\n",
    "The statement in an __if__ or __if-else__ statement can be any legal Java statement, including another <br>\n",
    "__if__ or __if-else__ statement. The inner __if__ statement is said to be _nested_ inside the outer __if__ statement. <br>\n",
    "The inner __if__ statement can contain another __if__ statement; in face, there is no limit to the depth <br> of the nesting.\n",
    "For examlpe, the following is a nested __if__ statement:"
   ]
  },
  {
   "cell_type": "code",
   "execution_count": null,
   "id": "c2660186-35d5-441a-9ab6-f4ff63bb21a9",
   "metadata": {},
   "outputs": [],
   "source": [
    "if ( i > k){\n",
    "    if ( j > k)\n",
    "        System.out.println(\"i and j are greater than k\");\n",
    "}\n",
    "else\n",
    "    System.out.println(\"i is less than or equal to k\");"
   ]
  },
  {
   "cell_type": "code",
   "execution_count": 2,
   "id": "5d7ed452-4ea0-4a5e-9ad2-ae79120614a7",
   "metadata": {},
   "outputs": [],
   "source": [
    "import java.util.Scanner;\n",
    "\n",
    "public class Grade {\n",
    "    public static void main(String[] args){\n",
    "        Scanner input = new Scanner(System.in);\n",
    "        System.out.print(\"Enter student's grade: \");\n",
    "\n",
    "        double grade = input.nextDouble();\n",
    "        // Check for which letter grade student got\n",
    "        if (grade >= 90)\n",
    "        System.out.println(\"A\");\n",
    "        else if (grade >= 80)\n",
    "        System.out.println(\"B\");\n",
    "        else if (grade >= 70)\n",
    "        System.out.println(\"C\");\n",
    "        else if (grade >= 60)\n",
    "        System.out.println(\"D\");\n",
    "        else \n",
    "        System.out.println(\"F\");\n",
    "\n",
    "    }   \n",
    "}"
   ]
  },
  {
   "cell_type": "markdown",
   "id": "517eec09-9978-4ac8-bd2d-f80418f53694",
   "metadata": {},
   "source": [
    "***\n",
    "### 3.7 Generating Random Numbers\n",
    "_You can use __Math.random()__ to obtain a random double value between __0.0__ and __1.0__, excluding __1.0__._<br>\n",
    "<br>\n",
    "The previous programs generate random numbers using __System.currentTimeMillis()__. A better approach is to use the <br>\n",
    "__random()__ method in __Math__ class. Invoking this method returns a random double value __d__ such that 0.0 <= d < 1.0.<br>\n",
    "Thus, __(int)(Math.random() * 10)__ returns a random single-digit integer. <br>\n",
    "1. Generate two singe-digit integers into __number1__ and __number2__.\n",
    "2. If __number1 < number2__, swap __number1__ with __number2__.\n",
    "3. Prompt the student to answer, __\"What is number1 - number2?\"__.\n",
    "4. Check the student's answer and display whether the answer is correct."
   ]
  },
  {
   "cell_type": "code",
   "execution_count": null,
   "id": "e55cb951-f0e2-4db8-8a9f-7dffe09d24a1",
   "metadata": {},
   "outputs": [],
   "source": [
    "import java.util.Scanner;\n",
    "\n",
    "public class SubstractionQuiz{\n",
    "    public static void main(String[] args){\n",
    "        //1. Generate two random single-digit integers\n",
    "        int number1 = (int)(Math.random() * 10);\n",
    "        int number2 = (int)(Math.random() * 10);\n",
    "        \n",
    "        //2. If number1 < number2, swap number1 with number2\n",
    "        if (number1 < number2){\n",
    "            int temp = number1;\n",
    "            number1 = number2;\n",
    "            number2 = temp;\n",
    "        }\n",
    "        //3. Prompt the student to answer \"What is number1 - number2?\"\n",
    "        System.out.print(\"What is \" + number1 + \" - \" + number2 + \"? \");\n",
    "        Scanner input = new Scanner(System.in);\n",
    "        int answer = input.nextInt();\n",
    "        \n",
    "        //4. Grade the answer and display the result\n",
    "        if (number1 - number2 == answer){\n",
    "            System.out.println(\"You are correct!\");\n",
    "        }\n",
    "        else{\n",
    "            System.out.println(\"Your answer is wrong.\");\n",
    "            System.out.println(number1 + \" - \" + number2 + \" should be \" + (number1 - number2));\n",
    "        }\n",
    "    }\n",
    "}"
   ]
  },
  {
   "cell_type": "markdown",
   "id": "329706b5-65a5-4dc2-8c61-fd21e81170e2",
   "metadata": {},
   "source": [
    "***\n",
    "#### 3.8 Case Study: Computing Body Mass Index\n",
    "_You can use nested __if__ statements to write a program that interprets body mass index_<br>\n",
    "<br>\n",
    "Body mass index (BMI) is a measure of health based on height and weight. It can be calculated by taking your weight <br>\n",
    "in kilograms and dividing it by the square of your height in meters. The interpetation of BMI for people 20 years or older <br>\n",
    "is as follows: <br>\n",
    "&emsp; BMI $\\;\\;\\;\\;\\;\\;\\;\\;\\;\\;\\;\\;\\;\\;\\;\\;\\;$ Interpretation <br>\n",
    "<br>\n",
    "BMI < 18.5 $\\;\\;\\;\\;\\;\\;\\;\\;\\;\\;\\;\\;$ Underweight<br>\n",
    "18.5 =< BMI < 25.0 &emsp;Normal <br>\n",
    "25.0 =< BMI < 30.0 &emsp;Overweight <br>\n",
    "30.0 =< BMI $\\;\\;\\;\\;\\;\\;\\;\\;\\;\\;$ Obese"
   ]
  },
  {
   "cell_type": "markdown",
   "id": "e4a6e72b-3fcb-44e2-9bbe-ad007117f4d4",
   "metadata": {},
   "source": [
    "Write a program that prompts the user to enter a weight in pounds and heights in inches and displays the BMI. <br>\n",
    "Note that one pound is __0.45359237__ kilograms, and one inch is __0.0254__ meters. Listing 3.4 gives the program."
   ]
  },
  {
   "cell_type": "code",
   "execution_count": 1,
   "id": "54cda2c5-2e3d-4094-8f1d-cb8248a25ead",
   "metadata": {},
   "outputs": [],
   "source": [
    "import java.util.Scanner;\n",
    "\n",
    "public class ComputeAndInterpretBMI {\n",
    "    public static void main(String[] args){\n",
    "        Scanner input = new Scanner(System.in);\n",
    "        \n",
    "        //prompt user to enter weight in pounds\n",
    "        System.out.print(\"Enter weight in pounds: \");\n",
    "        double weight = input.nextDouble();\n",
    "        \n",
    "        //prompt user to enter height in inches\n",
    "        System.out.print(\"Enter height in inches: \");\n",
    "        double height = input.nextDouble();\n",
    "\n",
    "        // set constant variables\n",
    "        final double KILOGRAMS_PER_POUND = 0.45359237;\n",
    "        final double METERS_PER_INCHES = 0.0254;\n",
    "\n",
    "        // calculate BMI\n",
    "        double BMI = ((weight * KILOGRAMS_PER_POUND)/((double)(Math.pow((height * METERS_PER_INCHES),2))));\n",
    "\n",
    "        //Display Result\n",
    "        System.out.println(\"BMI is \" + BMI);\n",
    "       \n",
    "        //Check interpretation\n",
    "        if (BMI <= 18.5)\n",
    "        System.out.println(\"Underweight\");\n",
    "        else if (BMI < 25.0)\n",
    "        System.out.println(\"Normal\");\n",
    "        else if (BMI < 30.0)\n",
    "        System.out.println(\"Overweight\");\n",
    "        else\n",
    "        System.out.println(\"Obese\");\n",
    "    }  \n",
    "}"
   ]
  },
  {
   "cell_type": "markdown",
   "id": "00650644-8957-4a76-902e-3fbaba56fb14",
   "metadata": {},
   "source": [
    "***\n",
    "#### 3.9 Case Study: Computing Taxes\n",
    "_You can use nested __if__ statements to write a program for computing taxes_"
   ]
  },
  {
   "cell_type": "code",
   "execution_count": 2,
   "id": "900ad40d-7c14-4016-a51a-915e8aee5d3d",
   "metadata": {},
   "outputs": [],
   "source": [
    "import java.util.Scanner;\n",
    "\n",
    "public class ComputeTax {\n",
    "    public static void main(String[] args){\n",
    "        Scanner input = new Scanner(System.in);\n",
    "        \n",
    "        // Prompt user to enter filling status\n",
    "        System.out.print(\"(0 - single filer, 1 - married filing jointly or \" + \n",
    "        \"qualifying widow(er), 2 - married filing seperately, 3-head of \" + \n",
    "        \" household) Enter the filing status: \");\n",
    "\n",
    "        int status = input.nextInt();\n",
    "\n",
    "        // Prompt user to enter taxable income\n",
    "\n",
    "        System.out.print(\"Enter the taxable income: \");\n",
    "        double income = input.nextDouble();\n",
    "\n",
    "        //Compute tax\n",
    "        double tax = 0;\n",
    "        if (status == 0){\n",
    "            if (income <= 8350)\n",
    "            tax = income * 0.10;\n",
    "            else if (income <= 33950)\n",
    "            tax =  (8350 * 0.10) + (income - 8350) * 0.15;\n",
    "            else if (income <= 82250)\n",
    "            tax = (8350 * 0.10) + (33950 - 8350) * 0.15 + (income -33950) * 0.25;\n",
    "            else if (income <= 171550)\n",
    "            tax = (8350 * 0.10) + (33950 - 8350) * 0.15 + (82250 -33950) * 0.25 + (income - 82250) * 0.28;\n",
    "            else if (income <= 372950)\n",
    "            tax = (8350 * 0.10) + (33950 - 8350) * 0.15 + (82250 -33950) * 0.25 + (171550 - 82250) * 0.28 + (income - 171550) * 0.33;\n",
    "            else \n",
    "            tax = (8350 * 0.10) + (33950 - 8350) * 0.15 + (82250 -33950) * 0.25 + (171550 - 82250) * 0.28 + (372950 - 171550) * 0.33 +\n",
    "            (income - 372950) * 0.35;\n",
    "        }\n",
    "        else if (status == 1){\n",
    "            if (income <= 16700)\n",
    "            tax = income * 0.10;\n",
    "            else if (income <= 67900)\n",
    "            tax = (16700 * 0.10) + (income - 16700) * 0.15;\n",
    "            else if (income <= 137050)\n",
    "            tax = 16700 * 10 + (67900 - 16700) * 0.15 + (income - 67900) * 0.25;\n",
    "            else if (income <= 208850)\n",
    "            tax = 16700 * 10 + (67900 - 16700) * 0.15 + (137050 - 67900) * 0.25 + (income - 137050) * 0.28;\n",
    "            else if (income <= 372950)\n",
    "            tax = 16700 * 10 + (67900 - 16700) * 0.15 + (137050 - 67900) * 0.25 + (208850 - 137050) * 0.28 + (income - 208850) * 0.33;\n",
    "            else\n",
    "            tax = 16700 * 10 + (67900 - 16700) * 0.15 + (137050 - 67900) * 0.25 + (208850 - 137050) * 0.28 + (372950 - 208850) * 0.33 + \n",
    "            (income - 372950) * 0.35;\n",
    "        }\n",
    "        else if (status == 2){\n",
    "            if (income <= 8350)\n",
    "            tax = income * 0.10;\n",
    "            else if (income <= 33950)\n",
    "            tax = (8350 * 0.10) + (income - 8350) * 0.15;\n",
    "            else if (income <= 68525)\n",
    "            tax = (8350 * 0.10) + (33950 - 8350) * 0.15 + (income - 33950) * 0.25;\n",
    "            else if (income <= 104425)\n",
    "            tax = (8350 * 0.10) + (33950 - 8350) * 0.15 + (68525- 33950) * 0.25 + (income - 68525) * 0.28;\n",
    "            else if (income <= 186475)\n",
    "            tax = (8350 * 0.10) + (33950 - 8350) * 0.15 + (68525 - 33950) * 0.25 + ( 104425 - 68525) * 0.28 + (income - 1044250) * 0.33;\n",
    "            else\n",
    "            tax = (8350 * 0.10) + (33950 - 8350) * 0.15 + (68525 - 33950) * 0.25 + ( 104425 - 68525) * 0.28 + (186475 - 1044250) * 0.33 \n",
    "            + (income - 186475) * 0.35;\n",
    "        }\n",
    "        else if (status == 3){\n",
    "            if (income <= 11950)\n",
    "            tax = income * 0.10;\n",
    "            else if (income <= 45500)\n",
    "            tax = 11950 * 0.10 + (income - 11950) * 0.15;\n",
    "            else if (income <= 117450)\n",
    "            tax = 11950 * 0.10 + (45500 - 11950) * 0.15 + (income - 45500) * 0.25;\n",
    "            else if (income <= 190200)\n",
    "            tax = 11950 * 0.10 + (45500 - 11950) * 0.15 + (117450 - 45500) * 0.25 + (income - 117450) * 0.28;\n",
    "            else if (income <= 372950)\n",
    "            tax = 11950 * 0.10 + (45500 - 11950) * 0.15 + (117450 - 45500) * 0.25 + (190200 - 117450) * 0.28 + (income - 190200) * 0.33;\n",
    "            else \n",
    "            tax = 11950 * 0.10 + (45500 - 11950) * 0.15 + (117450 - 45500) * 0.25 + (190200 - 117450) * 0.28 + (372950 - 190200) * 0.33 \n",
    "            + (income - 372950) * 0.35;\n",
    "        }\n",
    "        else {\n",
    "            System.out.println(\"Error: invalid status\");\n",
    "            System.exit(1);\n",
    "        }\n",
    "        //Display the result\n",
    "        System.out.println(\"Tax is \" + (int)(tax * 100) / 100.0);\n",
    "\n",
    "    }\n",
    "}"
   ]
  },
  {
   "cell_type": "markdown",
   "id": "85fcb20d-878c-4937-855a-e59333c8c6a1",
   "metadata": {
    "tags": []
   },
   "source": [
    "***\n",
    "### 3.10 Logical Operators\n",
    "The logical operators __!__, __&&__, __||__, and __^__ can be used to creat a compound Boolean expression. <br>\n",
    "<br>\n",
    "> * not (__!__) operator, which negates __true__ or __false__ and __false__ to __true__.<br>\n",
    "> * and (__&&__) operator, of two Boolean operands is __true__ if and only if __both__ the operands are __true__.<br>\n",
    "> * or (__||__) operator, of two Boolean operands is true if at least one of the operands is __true__.<br>\n",
    "> * exclusive or (__^__) operator, of two Bollean operands is true if and only if the two operands have different Boolean values. <br>\n",
    "Note p1 ^ p2 is the same as p1 != p2."
   ]
  },
  {
   "cell_type": "markdown",
   "id": "e3c4b88c-9c06-4173-ba5b-37634170d910",
   "metadata": {},
   "source": [
    "#### Listing 3.6 TestBooleanOperators.java"
   ]
  },
  {
   "cell_type": "code",
   "execution_count": 1,
   "id": "673b6bf5-3b44-4852-8b43-118cb5c3c7ee",
   "metadata": {},
   "outputs": [],
   "source": [
    "import java.util.Scanner;\n",
    "\n",
    "public class TestBooleanOperators {\n",
    "    public static void main (String[] args){\n",
    "        //Create a Scanner\n",
    "        Scanner input = new Scanner (System.in);\n",
    "\n",
    "        //Recieve an input\n",
    "        System.out.print(\"Enter an integer: \");\n",
    "        int number = input.nextInt();\n",
    "\n",
    "        if (number % 2 == 0 && number % 3 ==0)\n",
    "        System.out.println(number + \" is divisible by 2 and 3.\");\n",
    "        if(number % 2 == 0 || number % 3 == 0)\n",
    "        System.out.println(number + \" is visible by 2 or 3.\");\n",
    "        if (number % 2 == 0 ^ number % 3 == 0)\n",
    "        System.out.println(number + \" is divisible by 2 or 3, but not both.\");\n",
    "    }\n",
    "}"
   ]
  },
  {
   "cell_type": "markdown",
   "id": "f9ff2bc0-93ad-4ef5-a1c8-27fae07d176a",
   "metadata": {},
   "source": [
    "#### 3.11 Case Study: Determining Leap Year\n",
    "_A leap year is a leap year if it is divisible by __4__ but not by __100__, or if it is divisible by __400___.<br>\n",
    "<br>\n",
    "A leap year has 366 days. The Febraruryof a leap year has 29 days. You can use the following boolean expression to check whether <br>\n",
    "a year is a leap year.<br>"
   ]
  },
  {
   "cell_type": "markdown",
   "id": "3193cb39-6223-4cd8-9d30-1ee6c2bea8bc",
   "metadata": {},
   "source": [
    "#### LeapYear.java"
   ]
  },
  {
   "cell_type": "code",
   "execution_count": null,
   "id": "4ca4f904-5c5a-4a44-aafe-b7bce5893950",
   "metadata": {},
   "outputs": [],
   "source": [
    "import java.util.Scanner;\n",
    "\n",
    "public class LeapYear{\n",
    "    public static void main(String[] args){\n",
    "        //Create a Scanner\n",
    "        Scanner input = new Scanner(System.in);\n",
    "        System.out.print(\"Enter a year: \");\n",
    "        int year = input.nextInt();\n",
    "\n",
    "        //Check if the year is a leap year\n",
    "        boolean isLeapYear = \n",
    "        (year % 4 == 0 && year % 100 !=0) || (year % 400 == 0);\n",
    "\n",
    "        // Display the result\n",
    "\n",
    "        System.out.println(year + \" is a leap year? \" + isLeapYear);\n",
    "    }\n",
    "}"
   ]
  },
  {
   "cell_type": "markdown",
   "id": "b9ad167a-c12e-4b09-9cd6-69accbdd87d0",
   "metadata": {},
   "source": [
    "#### 3.12Case Study Lottery\n",
    "_The lottery program involves generating random numbers, comparig digits and using Boolean operators_"
   ]
  },
  {
   "cell_type": "code",
   "execution_count": 2,
   "id": "39d7ca34-da2d-4b4c-911f-9e7629885d07",
   "metadata": {},
   "outputs": [],
   "source": [
    "import java.util.Scanner;\n",
    "\n",
    "public class Lottery {\n",
    "    public static void main(String[] args){\n",
    "        //Generate a lottery number\n",
    "        int lottery = (int)(Math.random() * 100);\n",
    "\n",
    "        //Prompt the user to enter a guess\n",
    "        Scanner input = new Scanner(System.in);\n",
    "        System.out.print(\"Enter your lottery pick (two digits): \");\n",
    "        int guess = input.nextInt();\n",
    "\n",
    "        // Get digits from lottery\n",
    "        int lotteryDigit1 = lottery / 10;\n",
    "        int lotteryDigit2 = lottery % 10;\n",
    "\n",
    "        // Get digits from guess\n",
    "        int guessDigit1 = guess / 10;\n",
    "        int guessDigit2 = guess % 10;\n",
    "\n",
    "        System.out.println(\"The lottery number is \" + lottery);\n",
    "\n",
    "        // Check the guess\n",
    "        if (guess == lottery)\n",
    "        System.out.println(\"Exact match: you win $10,000\");\n",
    "        else if (guessDigit2 == lotteryDigit1 && guessDigit1 == lotteryDigit2)\n",
    "        System.out.println(\"Match all digits: you win $3,000\");\n",
    "        else if (guessDigit1 == lotteryDigit1 || guessDigit1 == lotteryDigit2 || guessDigit2 == lotteryDigit1 || guessDigit2 == lotteryDigit2)\n",
    "        System.out.println(\"Math one digit: you win $1,000\");\n",
    "        else \n",
    "        System.out.println(\"Sorry, no match\");\n",
    "\n",
    "\n",
    "    }\n",
    "    \n",
    "}"
   ]
  },
  {
   "cell_type": "markdown",
   "id": "cba88489-5e4b-4855-ae7f-847ba1d11a03",
   "metadata": {},
   "source": [
    "***\n",
    "### 3.13 Switch Statements\n",
    "_A __switch__ statement executes statements based on the value of a variable or an expression_. <br>\n",
    "<br>\n",
    "The __if__ statement in Listing 3.5, ComputeTax.java makes selections based on a single __true__ or __fase__ condition. <br>\n",
    "There are four cases for computing taxes, which depend on the value of __status__. To fully account for all the cases, nested __if__ <br>\n",
    "statements were used. Overuse of nested __if__ statements makes a program difficult to read. Java provides a __switch__ statement to <br>\n",
    "simplify coding for multiple conditions. You can write the following __switch__ statement to replace the nested __if__ statement in <br>\n",
    "Listing 3.5:"
   ]
  },
  {
   "cell_type": "code",
   "execution_count": null,
   "id": "781a334b-6064-44ad-a2af-9c7d0cb898a4",
   "metadata": {},
   "outputs": [],
   "source": [
    "switch (status) {\n",
    "    case 0: // compute tax for single filers;\n",
    "        break;\n",
    "    case 1: // compute tax for married jointly or qualifying widow(er);\n",
    "        break;\n",
    "    case 2: // compute tax for head of houesehold;\n",
    "        break;\n",
    "    case 3: // compute tax for head of household\n",
    "        break;\n",
    "    default: System.out.println(\"Error: invalid status\");\n",
    "             System.exit(1);\n",
    "}"
   ]
  },
  {
   "cell_type": "code",
   "execution_count": 3,
   "id": "3011dc3f-96b7-4dfd-baa1-07e247271897",
   "metadata": {},
   "outputs": [],
   "source": [
    "import java.util.Scanner;\n",
    "\n",
    "public class ChineseZodiac {\n",
    "    public static void main(String[] args){\n",
    "        Scanner input = new Scanner(System.in);\n",
    "        System.out.print(\"Enter a year: \");\n",
    "        int year = input.nextInt();\n",
    "\n",
    "        switch(year % 12){\n",
    "            case 0: System.out.println(\"monkey\"); break;\n",
    "            case 1: System.out.println(\"rooster\"); break;\n",
    "            case 2: System.out.println(\"dog\"); break;\n",
    "            case 3: System.out.println(\"pig\"); break;\n",
    "            case 4: System.out.println(\"rat\"); break;\n",
    "            case 5: System.out.println(\"ox\"); break;\n",
    "            case 6: System.out.println(\"tiger\"); break;\n",
    "            case 7: System.out.println(\"rabbit\"); break;\n",
    "            case 8: System.out.println(\"dragon\"); break;\n",
    "            case 9: System.out.println(\"snake\"); break;\n",
    "            case 10: System.out.println(\"horse\"); break;\n",
    "            case 11: System.out.println(\"sheep\");\n",
    "        }\n",
    "    }\n",
    "    \n",
    "}"
   ]
  },
  {
   "cell_type": "markdown",
   "id": "b14098a1-e6e2-4e60-b3de-68b077aa17a6",
   "metadata": {},
   "source": [
    "***\n",
    "### __3.15 Operator Precedence and Associativity__\n",
    "_Operator precedence and associativity determine the order in which operators are evaluated._ <br>"
   ]
  },
  {
   "cell_type": "code",
   "execution_count": 1,
   "id": "3d6218ff-d84b-46ba-af0e-af2f51744f82",
   "metadata": {},
   "outputs": [
    {
     "data": {
      "text/plain": [
       "false"
      ]
     },
     "execution_count": 1,
     "metadata": {},
     "output_type": "execute_result"
    }
   ],
   "source": [
    "3 + 4 * 4 > 5 * (4 + 3) - 1 && (4 - 3 > 5)"
   ]
  },
  {
   "cell_type": "markdown",
   "id": "f6b30fbc-9bf5-476b-8fae-5e8195dd7581",
   "metadata": {},
   "source": [
    "The expression within the parentheses is evaluated first. (Parantheses can be nested, in which the case the expression within the inner <br>\n",
    "is executed first). When evaluating an expression without parentheses, the operators are applied according to the precedence rule and <br>\n",
    "the associativity rule. The operators are listed in decreasing order. <br>\n",
    "1. __var++__ and __var--__ (Postfix)\n",
    "2. __+__, __-__ (Unary plus and minus), __++var__ and __--var__ (Prefix) \n",
    "3. (type)(Casting)\n",
    "4. __!__ (Not)\n",
    "5. __*__, __/__, __%__, (Muliplication, division, and remainder)\n",
    "6. __+__, __-__ (Binary addition and subtraction)\n",
    "7. __<__, __<=__, __>__, __>=__ (Relational)\n",
    "8. __==__, __!=__ (Equality)\n",
    "9. __^__ (Exclusive OR)\n",
    "10. __&&__ (AND)\n",
    "11. __||__ (OR)\n",
    "12. __=__, __+=__, __*=__, __/=__, __%=__ (Assignment operators)"
   ]
  },
  {
   "cell_type": "code",
   "execution_count": null,
   "id": "598b3715-52f1-4a79-b263-408c2323e7dc",
   "metadata": {},
   "outputs": [],
   "source": []
  }
 ],
 "metadata": {
  "kernelspec": {
   "display_name": "Java",
   "language": "java",
   "name": "java"
  },
  "language_info": {
   "codemirror_mode": "java",
   "file_extension": ".jshell",
   "mimetype": "text/x-java-source",
   "name": "Java",
   "pygments_lexer": "java",
   "version": "11.0.16.1+9-LTS"
  }
 },
 "nbformat": 4,
 "nbformat_minor": 5
}
